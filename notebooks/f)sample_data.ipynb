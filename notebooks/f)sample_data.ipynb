{
 "cells": [
  {
   "cell_type": "code",
   "execution_count": 2,
   "id": "c20827c7-51ac-4218-9446-5dfa769ccc7b",
   "metadata": {},
   "outputs": [],
   "source": [
    "import pandas as pd\n",
    "from sklearn.model_selection import train_test_split\n",
    "from sklearn.preprocessing import OneHotEncoder\n",
    "from sklearn.preprocessing import MinMaxScaler, StandardScaler\n",
    "from sklearn.neighbors import KNeighborsRegressor\n",
    "from sklearn.neighbors import KNeighborsClassifier\n",
    "from sklearn.tree import DecisionTreeClassifier\n",
    "from sklearn.ensemble import RandomForestClassifier\n",
    "from sklearn.metrics import accuracy_score\n",
    "import pickle"
   ]
  },
  {
   "cell_type": "code",
   "execution_count": 3,
   "id": "ff900c1c-f179-4fdf-9c27-2e63d0b20d16",
   "metadata": {},
   "outputs": [],
   "source": [
    "df = pd.read_csv(\"../data/clean/df_after_EDA.csv\")\n",
    "df.drop(['Unnamed: 0'],inplace=True,axis=1)"
   ]
  },
  {
   "cell_type": "code",
   "execution_count": 4,
   "id": "ccaab77d-1e5c-41d5-b062-d309b1b78064",
   "metadata": {},
   "outputs": [
    {
     "name": "stderr",
     "output_type": "stream",
     "text": [
      "/var/folders/q1/bq_b0f_d53ldgrm4rh3vh1_40000gn/T/ipykernel_41888/3690471984.py:2: DeprecationWarning: DataFrameGroupBy.apply operated on the grouping columns. This behavior is deprecated, and in a future version of pandas the grouping columns will be excluded from the operation. Either pass `include_groups=False` to exclude the groupings or explicitly select the grouping columns after groupby to silence this warning.\n",
      "  sample_df = df.groupby('readmitted').apply(lambda x: x.sample(n=100,random_state=2,replace=True))\n"
     ]
    }
   ],
   "source": [
    "#taking a sample of data which has equal destrubution of tatget column values \n",
    "sample_df = df.groupby('readmitted').apply(lambda x: x.sample(n=100,random_state=2,replace=True))"
   ]
  },
  {
   "cell_type": "code",
   "execution_count": null,
   "id": "cc535038-336a-4dee-b0fe-276c5f370b4c",
   "metadata": {},
   "outputs": [],
   "source": []
  },
  {
   "cell_type": "code",
   "execution_count": 5,
   "id": "4aec92f9-dc47-466a-be94-2734682c696d",
   "metadata": {},
   "outputs": [],
   "source": [
    "#creating a new df with the remaining data\n",
    "remaining_df = pd.concat([df,sample_df ]).drop_duplicates(keep=False)"
   ]
  },
  {
   "cell_type": "code",
   "execution_count": 6,
   "id": "896e8e91-da78-4739-b128-00556bb88967",
   "metadata": {},
   "outputs": [
    {
     "name": "stdout",
     "output_type": "stream",
     "text": [
      "(882, 25)\n",
      "(300, 25)\n",
      "(637, 25)\n"
     ]
    }
   ],
   "source": [
    "print(f'{df.shape}')\n",
    "print(f'{sample_df.shape}')\n",
    "print(f'{remaining_df.shape}')"
   ]
  },
  {
   "cell_type": "code",
   "execution_count": 7,
   "id": "8a3db218-d527-486f-a521-f3c7307a7aa1",
   "metadata": {},
   "outputs": [],
   "source": [
    "# For training data\n",
    "X_train = sample_df.drop(columns=['readmitted'])\n",
    "y_train = sample_df['readmitted']\n",
    "\n",
    "# For testing data\n",
    "X_test = remaining_df.drop(columns=['readmitted'])\n",
    "y_test = remaining_df['readmitted']"
   ]
  },
  {
   "cell_type": "code",
   "execution_count": 8,
   "id": "1fd4939a-472f-4d49-8c00-c6d52939d936",
   "metadata": {},
   "outputs": [],
   "source": [
    "X_train_cat = X_train.select_dtypes('object')\n",
    "X_test_cat  = X_test.select_dtypes('object')\n",
    "#\n",
    "X_train_num = X_train.select_dtypes('number')\n",
    "X_test_num  = X_test.select_dtypes('number')"
   ]
  },
  {
   "cell_type": "code",
   "execution_count": null,
   "id": "e9db0718-3293-4cdf-8eb3-0a03cdc591f8",
   "metadata": {},
   "outputs": [],
   "source": []
  },
  {
   "cell_type": "code",
   "execution_count": 9,
   "id": "dc51313a-4020-4024-9145-95de5aced8e3",
   "metadata": {},
   "outputs": [],
   "source": [
    "categorical_column_values = [ df[col].unique() for col in df.select_dtypes('object').columns ]"
   ]
  },
  {
   "cell_type": "code",
   "execution_count": 10,
   "id": "54b9f1d1-da68-4748-a171-cd2dbc88df43",
   "metadata": {},
   "outputs": [],
   "source": [
    "encoder = OneHotEncoder(drop='first',handle_unknown='ignore',sparse_output=False)"
   ]
  },
  {
   "cell_type": "code",
   "execution_count": 27,
   "id": "eda9000c-2f0f-4e24-8f47-99286c7363b2",
   "metadata": {},
   "outputs": [],
   "source": [
    "encoder.fit(X_train_cat)\n",
    "with open('../transformers/transformer_f.pkl', 'wb') as f:\n",
    "    pickle.dump(encoder, f)"
   ]
  },
  {
   "cell_type": "code",
   "execution_count": 28,
   "id": "e20e3b4c-cfd1-443f-bfcf-bc06b01a880b",
   "metadata": {},
   "outputs": [
    {
     "name": "stderr",
     "output_type": "stream",
     "text": [
      "/Users/og/Desktop/IronHackDA/7-Final_Project/SugarSync/sugarsync/lib/python3.11/site-packages/sklearn/preprocessing/_encoders.py:241: UserWarning: Found unknown categories in columns [5, 6, 7, 8, 9] during transform. These unknown categories will be encoded as all zeros\n",
      "  warnings.warn(\n"
     ]
    }
   ],
   "source": [
    "X_train_cat_encoded_np = encoder.transform(X_train_cat)\n",
    "X_test_cat_encoded_np  = encoder.transform(X_test_cat)"
   ]
  },
  {
   "cell_type": "code",
   "execution_count": null,
   "id": "b07cff70-e9d2-4e8e-a33c-aa1697af90bc",
   "metadata": {},
   "outputs": [],
   "source": []
  },
  {
   "cell_type": "code",
   "execution_count": 13,
   "id": "875af62d-a1e3-494e-acf9-0699dec0f63f",
   "metadata": {},
   "outputs": [],
   "source": [
    "X_train_cat_encoded_df = pd.DataFrame(X_train_cat_encoded_np, columns=encoder.get_feature_names_out(), index=X_train.index)\n",
    "X_test_cat_encoded_df = pd.DataFrame(X_test_cat_encoded_np, columns=encoder.get_feature_names_out(), index=X_test.index)"
   ]
  },
  {
   "cell_type": "code",
   "execution_count": 14,
   "id": "baa44358-2a3f-4284-a15a-1009714ef2db",
   "metadata": {},
   "outputs": [],
   "source": [
    "X_train_encoded = pd.concat([X_train_num, X_train_cat_encoded_df], axis=1)\n",
    "X_test_encoded = pd.concat([X_test_num, X_test_cat_encoded_df], axis=1)"
   ]
  },
  {
   "cell_type": "code",
   "execution_count": 29,
   "id": "685582f5-5bf2-4fdb-9e3f-c73edfe10ac4",
   "metadata": {},
   "outputs": [],
   "source": [
    "normalizer = MinMaxScaler()\n",
    "normalizer.fit(X_train_encoded)\n",
    "\n",
    "with open('../scalers/scaler_f.pkl', 'wb') as f:\n",
    "    pickle.dump(encoder, f)"
   ]
  },
  {
   "cell_type": "code",
   "execution_count": 16,
   "id": "6de7d90e-ff5b-4723-80b6-0d4f7cb49ac9",
   "metadata": {},
   "outputs": [],
   "source": [
    "X_train_norm_np = normalizer.transform(X_train_encoded)\n",
    "X_test_norm_np = normalizer.transform(X_test_encoded)"
   ]
  },
  {
   "cell_type": "code",
   "execution_count": 17,
   "id": "d1f0b052-153c-408a-8e73-f7efa67371cf",
   "metadata": {},
   "outputs": [],
   "source": [
    "X_train_norm_df = pd.DataFrame(X_train_norm_np, columns=X_train_encoded.columns, index=X_train_encoded.index)\n",
    "X_test_norm_df  = pd.DataFrame(X_test_norm_np,  columns=X_test_encoded.columns,  index=X_test_encoded.index)"
   ]
  },
  {
   "cell_type": "code",
   "execution_count": null,
   "id": "1a31631c-f76a-4736-bbb0-730dde05a880",
   "metadata": {},
   "outputs": [],
   "source": []
  },
  {
   "cell_type": "code",
   "execution_count": null,
   "id": "523485da-3968-4169-9b3a-a17016f450cb",
   "metadata": {},
   "outputs": [],
   "source": []
  },
  {
   "cell_type": "code",
   "execution_count": 30,
   "id": "c5e948a3-a9eb-4ecd-bcbe-a4446209bd28",
   "metadata": {},
   "outputs": [],
   "source": [
    "knn = KNeighborsClassifier(n_neighbors=5)  \n",
    "knn.fit(X_train_norm_df, y_train)\n",
    "\n",
    "with open('../models/f_KNN.pkl', 'wb') as f:\n",
    "    pickle.dump(knn, f)\n"
   ]
  },
  {
   "cell_type": "code",
   "execution_count": 19,
   "id": "45e7f59d-9e25-47e9-b6a3-2e2ff521535c",
   "metadata": {},
   "outputs": [],
   "source": [
    "y_pred = knn.predict(X_test_norm_df)"
   ]
  },
  {
   "cell_type": "code",
   "execution_count": 20,
   "id": "b8181045-1a54-43f7-9f71-ec96fafbbbe2",
   "metadata": {},
   "outputs": [
    {
     "name": "stdout",
     "output_type": "stream",
     "text": [
      "Accuracy: 0.31711145996860285\n"
     ]
    }
   ],
   "source": [
    "accuracy = knn.score(X_test_norm_df, y_test)\n",
    "print(\"Accuracy:\", accuracy)"
   ]
  },
  {
   "cell_type": "code",
   "execution_count": null,
   "id": "f469c4f4-14be-4a7c-8e40-ec6de37750f4",
   "metadata": {},
   "outputs": [],
   "source": []
  },
  {
   "cell_type": "code",
   "execution_count": null,
   "id": "10a66ae4-2625-4bc2-88cf-282143d75bef",
   "metadata": {},
   "outputs": [],
   "source": []
  },
  {
   "cell_type": "code",
   "execution_count": null,
   "id": "51752cb2-497e-482a-8966-b0e7f68eeeb5",
   "metadata": {},
   "outputs": [],
   "source": []
  },
  {
   "cell_type": "code",
   "execution_count": 31,
   "id": "e604284a-01b5-4940-83e3-5f7f022825ab",
   "metadata": {},
   "outputs": [],
   "source": [
    "dt_classifier = DecisionTreeClassifier(random_state=42)\n",
    "dt_classifier.fit(X_train_norm_df, y_train)\n",
    "\n",
    "with open('../models/f_DT.pkl', 'wb') as d:\n",
    "    pickle.dump(dt_classifier, d)"
   ]
  },
  {
   "cell_type": "code",
   "execution_count": 22,
   "id": "d19f1a70-85b0-4194-814f-538a0fe05ffe",
   "metadata": {},
   "outputs": [
    {
     "name": "stdout",
     "output_type": "stream",
     "text": [
      "Decision Tree Accuracy: 0.40188383045525905\n"
     ]
    }
   ],
   "source": [
    "dt_predictions = dt_classifier.predict(X_test_norm_df)\n",
    "dt_accuracy = accuracy_score(y_test, dt_predictions)\n",
    "print(\"Decision Tree Accuracy:\", dt_accuracy)"
   ]
  },
  {
   "cell_type": "code",
   "execution_count": null,
   "id": "c37977e7-4f4b-45a2-9fd8-c1253dc3c04a",
   "metadata": {},
   "outputs": [],
   "source": []
  },
  {
   "cell_type": "code",
   "execution_count": null,
   "id": "669ae44d-e173-4a86-8954-94b2a306509c",
   "metadata": {},
   "outputs": [],
   "source": []
  },
  {
   "cell_type": "code",
   "execution_count": null,
   "id": "c4c03fd3-691a-443f-81fd-3e3b4793efaa",
   "metadata": {},
   "outputs": [],
   "source": []
  },
  {
   "cell_type": "code",
   "execution_count": 32,
   "id": "5f493f8d-5e8a-4351-a446-fe03d33acbc0",
   "metadata": {},
   "outputs": [],
   "source": [
    "rf_classifier = RandomForestClassifier(n_estimators=100, random_state=42)\n",
    "rf_classifier.fit(X_train_norm_df, y_train)\n",
    "\n",
    "with open('../models/f_RF.pkl', 'wb') as r:\n",
    "    pickle.dump(rf_classifier, r)"
   ]
  },
  {
   "cell_type": "code",
   "execution_count": 24,
   "id": "807a04ae-7a14-427b-a693-bb21d5173c02",
   "metadata": {},
   "outputs": [
    {
     "name": "stdout",
     "output_type": "stream",
     "text": [
      "Random Forest Accuracy: 0.4489795918367347\n"
     ]
    }
   ],
   "source": [
    "rf_predictions = rf_classifier.predict(X_test_norm_df)\n",
    "rf_accuracy = accuracy_score(y_test, rf_predictions)\n",
    "print(\"Random Forest Accuracy:\", rf_accuracy)"
   ]
  },
  {
   "cell_type": "code",
   "execution_count": 25,
   "id": "14066f05-7e97-493e-b837-2881999f3743",
   "metadata": {},
   "outputs": [
    {
     "name": "stdout",
     "output_type": "stream",
     "text": [
      "Decision Tree Accuracy: 0.40188383045525905\n"
     ]
    }
   ],
   "source": [
    "dt_predictions = dt_classifier.predict(X_test_norm_df)\n",
    "dt_accuracy = accuracy_score(y_test, dt_predictions)\n",
    "print(\"Decision Tree Accuracy:\", dt_accuracy)"
   ]
  },
  {
   "cell_type": "code",
   "execution_count": 26,
   "id": "6245fe5b-f155-4b11-95c8-5b56f9550d75",
   "metadata": {},
   "outputs": [
    {
     "name": "stdout",
     "output_type": "stream",
     "text": [
      "Random Forest Accuracy: 0.4489795918367347\n"
     ]
    }
   ],
   "source": [
    "rf_predictions = rf_classifier.predict(X_test_norm_df)\n",
    "rf_accuracy = accuracy_score(y_test, rf_predictions)\n",
    "print(\"Random Forest Accuracy:\", rf_accuracy)"
   ]
  },
  {
   "cell_type": "code",
   "execution_count": null,
   "id": "79428433-b41e-4e0f-b5c7-01ab9fdd4867",
   "metadata": {},
   "outputs": [],
   "source": []
  },
  {
   "cell_type": "code",
   "execution_count": null,
   "id": "5e647d50-0c87-4320-b8bc-97fd551882a7",
   "metadata": {},
   "outputs": [],
   "source": []
  },
  {
   "cell_type": "code",
   "execution_count": null,
   "id": "8dfd57d1-c83d-42af-8621-9fd275986605",
   "metadata": {},
   "outputs": [],
   "source": []
  },
  {
   "cell_type": "code",
   "execution_count": null,
   "id": "4713610a-8088-4155-b472-dc8cfcd29ff0",
   "metadata": {},
   "outputs": [],
   "source": []
  },
  {
   "cell_type": "code",
   "execution_count": null,
   "id": "0ac43c75-8cf7-4285-b95b-9ecb5f20bc31",
   "metadata": {},
   "outputs": [],
   "source": []
  },
  {
   "cell_type": "code",
   "execution_count": null,
   "id": "6cdb84d8-3666-4e09-85ff-500f6eaca7f9",
   "metadata": {},
   "outputs": [],
   "source": []
  },
  {
   "cell_type": "code",
   "execution_count": null,
   "id": "7106a719-d8d7-4664-a025-a7a28ed9a669",
   "metadata": {},
   "outputs": [],
   "source": []
  },
  {
   "cell_type": "code",
   "execution_count": null,
   "id": "cdcc097e-d3d5-44a0-a1dd-5a3469e88d4d",
   "metadata": {},
   "outputs": [],
   "source": []
  },
  {
   "cell_type": "code",
   "execution_count": null,
   "id": "8c68fae6-7e33-4754-b14c-7a6f36ac2351",
   "metadata": {},
   "outputs": [],
   "source": []
  },
  {
   "cell_type": "code",
   "execution_count": null,
   "id": "38c5fe7d-968c-4205-9a66-38bb83a96871",
   "metadata": {},
   "outputs": [],
   "source": []
  },
  {
   "cell_type": "code",
   "execution_count": null,
   "id": "12ed110d-9ad3-46b1-bf05-13c9d6e555ec",
   "metadata": {},
   "outputs": [],
   "source": []
  }
 ],
 "metadata": {
  "kernelspec": {
   "display_name": "sugarsync",
   "language": "python",
   "name": "sugarsync"
  },
  "language_info": {
   "codemirror_mode": {
    "name": "ipython",
    "version": 3
   },
   "file_extension": ".py",
   "mimetype": "text/x-python",
   "name": "python",
   "nbconvert_exporter": "python",
   "pygments_lexer": "ipython3",
   "version": "3.11.7"
  }
 },
 "nbformat": 4,
 "nbformat_minor": 5
}
