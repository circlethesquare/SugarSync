{
 "cells": [
  {
   "cell_type": "code",
   "execution_count": 90,
   "id": "30872bf2",
   "metadata": {},
   "outputs": [],
   "source": [
    "import pandas as pd \n",
    "from scipy.stats import chi2_contingency\n",
    "from scipy.stats.contingency import association\n",
    "import seaborn as sns\n",
    "import matplotlib.pyplot as plt\n",
    "from sklearn.preprocessing import OneHotEncoder\n",
    "import numpy as np"
   ]
  },
  {
   "cell_type": "code",
   "execution_count": 110,
   "id": "83985af9",
   "metadata": {},
   "outputs": [],
   "source": [
    "df = pd.read_csv(\"../data/clean/cleaned.csv\")\n",
    "df.drop(['Unnamed: 0'],inplace=True,axis=1)"
   ]
  },
  {
   "cell_type": "code",
   "execution_count": 111,
   "id": "9cc636d3",
   "metadata": {},
   "outputs": [],
   "source": [
    "categorical_columns = df.select_dtypes('object')\n",
    "numerical_columns = df.select_dtypes('number')"
   ]
  },
  {
   "cell_type": "code",
   "execution_count": null,
   "id": "c6708196",
   "metadata": {},
   "outputs": [],
   "source": []
  },
  {
   "cell_type": "code",
   "execution_count": 112,
   "id": "8ddfaf4f",
   "metadata": {},
   "outputs": [],
   "source": [
    "columns_to_select = ['patient_nbr','race', 'age', 'gender', 'readmitted']\n",
    "demographic_df = df[columns_to_select].copy()\n",
    "demographic_df.to_csv(\"../data/clean/demographic.csv\")"
   ]
  },
  {
   "cell_type": "code",
   "execution_count": null,
   "id": "aab2274e-f9cf-4b63-8dc2-70e4d84ccd45",
   "metadata": {},
   "outputs": [],
   "source": []
  },
  {
   "cell_type": "code",
   "execution_count": 113,
   "id": "6b57af77",
   "metadata": {},
   "outputs": [],
   "source": [
    "def automate_one_hot_encoding(df):\n",
    "    \"\"\"Function to apply one hot encoding to all \n",
    "    categorical column, create a new df, concat it with the original \n",
    "    and drop the original categorical columns \"\"\"\n",
    "    \n",
    "    for col in df.select_dtypes('object').columns:\n",
    "        \n",
    "        encoder = OneHotEncoder(handle_unknown='ignore', sparse_output=False)\n",
    "        \n",
    "        transformed_data = encoder.fit_transform(df[[col]])\n",
    "        \n",
    "        # Create column names for the new one-hot encoded columns\n",
    "        new_columns = [col + '_' + str(category) for category in encoder.categories_[0]]\n",
    "        \n",
    "        # Create a DataFrame from the transformed data with the new column names\n",
    "        transformed_df = pd.DataFrame(transformed_data, columns=new_columns)\n",
    "        \n",
    "        # Drop the original column and concatenate the transformed DataFrame\n",
    "        df = pd.concat([df.drop(col, axis=1), transformed_df], axis=1)\n",
    "        \n",
    "    return df"
   ]
  },
  {
   "cell_type": "code",
   "execution_count": null,
   "id": "b1da3b8a",
   "metadata": {},
   "outputs": [],
   "source": []
  },
  {
   "cell_type": "code",
   "execution_count": 114,
   "id": "d7436600",
   "metadata": {},
   "outputs": [],
   "source": [
    "#df_encoded = automate_one_hot_encoding(df)\n",
    "#df_encoded.to_csv(path_or_buf=\"../data/clean/df_encoded.csv\")"
   ]
  },
  {
   "cell_type": "code",
   "execution_count": 115,
   "id": "5ddfa53f",
   "metadata": {},
   "outputs": [],
   "source": [
    "#will save the new encoded data frame and leave this workbook as it is \n",
    "#since one hot encoding takes a long time \n",
    "# due to the nature of diag_1, diag_2 and diag3 columns "
   ]
  },
  {
   "cell_type": "code",
   "execution_count": 116,
   "id": "c4e10505",
   "metadata": {},
   "outputs": [],
   "source": [
    "df2 = df.drop(['diag_1','diag_2','diag_3'],axis=1)"
   ]
  },
  {
   "cell_type": "code",
   "execution_count": 117,
   "id": "f7d6beab-2039-4d3f-a2ff-054858c18329",
   "metadata": {},
   "outputs": [
    {
     "data": {
      "text/plain": [
       "array(['no', 'steady', 'up', 'down'], dtype=object)"
      ]
     },
     "execution_count": 117,
     "metadata": {},
     "output_type": "execute_result"
    }
   ],
   "source": [
    "df2['metformin'].unique()"
   ]
  },
  {
   "cell_type": "code",
   "execution_count": 118,
   "id": "318feba5",
   "metadata": {},
   "outputs": [],
   "source": [
    "df_encoded2 = automate_one_hot_encoding(df2)"
   ]
  },
  {
   "cell_type": "code",
   "execution_count": null,
   "id": "35600c2c-1a1e-4c93-81f2-c45bd6102268",
   "metadata": {},
   "outputs": [],
   "source": []
  },
  {
   "cell_type": "code",
   "execution_count": 119,
   "id": "60f84491-61f7-4a6f-9291-8a82f0757442",
   "metadata": {},
   "outputs": [],
   "source": [
    "columns_to_drop = [col for col in df_encoded2.columns if col.endswith('_no') and col != 'readmitted_no']\n",
    "columns_to_drop.extend(['patient_nbr', 'race_nan', 'weight_nan', 'gender_unknown/invalid'])"
   ]
  },
  {
   "cell_type": "code",
   "execution_count": 120,
   "id": "57be0a14-21bd-496a-a3e7-328d78b143cf",
   "metadata": {},
   "outputs": [],
   "source": [
    "# Drop identified columns\n",
    "df_encoded2.drop(columns=columns_to_drop, inplace=True)"
   ]
  },
  {
   "cell_type": "code",
   "execution_count": 121,
   "id": "6d7fa947-870b-4160-8b6d-aa88b08c47c0",
   "metadata": {},
   "outputs": [],
   "source": [
    "df_encoded2.to_csv(path_or_buf=\"../data/clean/df_encoded2.csv\")"
   ]
  },
  {
   "cell_type": "code",
   "execution_count": 122,
   "id": "97864fc9-ab2f-49f5-8f46-34b217637674",
   "metadata": {},
   "outputs": [
    {
     "name": "stdout",
     "output_type": "stream",
     "text": [
      "time_in_hospital\n",
      "num_lab_procedures\n",
      "num_procedures\n",
      "num_medications\n",
      "number_outpatient\n",
      "number_emergency\n",
      "number_inpatient\n",
      "number_diagnoses\n",
      "race_africanamerican\n",
      "race_asian\n",
      "race_caucasian\n",
      "race_hispanic\n",
      "race_other\n",
      "gender_female\n",
      "gender_male\n",
      "age_[0-10)\n",
      "age_[10-20)\n",
      "age_[20-30)\n",
      "age_[30-40)\n",
      "age_[40-50)\n",
      "age_[50-60)\n",
      "age_[60-70)\n",
      "age_[70-80)\n",
      "age_[80-90)\n",
      "age_[90-100)\n",
      "weight_>200\n",
      "weight_[0-25)\n",
      "weight_[100-125)\n",
      "weight_[125-150)\n",
      "weight_[150-175)\n",
      "weight_[175-200)\n",
      "weight_[25-50)\n",
      "weight_[50-75)\n",
      "weight_[75-100)\n",
      "metformin_down\n",
      "metformin_steady\n",
      "metformin_up\n",
      "repaglinide_down\n",
      "repaglinide_steady\n",
      "repaglinide_up\n",
      "nateglinide_down\n",
      "nateglinide_steady\n",
      "nateglinide_up\n",
      "chlorpropamide_down\n",
      "chlorpropamide_steady\n",
      "chlorpropamide_up\n",
      "glimepiride_down\n",
      "glimepiride_steady\n",
      "glimepiride_up\n",
      "acetohexamide_steady\n",
      "glipizide_down\n",
      "glipizide_steady\n",
      "glipizide_up\n",
      "glyburide_down\n",
      "glyburide_steady\n",
      "glyburide_up\n",
      "tolbutamide_steady\n",
      "pioglitazone_down\n",
      "pioglitazone_steady\n",
      "pioglitazone_up\n",
      "rosiglitazone_down\n",
      "rosiglitazone_steady\n",
      "rosiglitazone_up\n",
      "acarbose_down\n",
      "acarbose_steady\n",
      "acarbose_up\n",
      "miglitol_down\n",
      "miglitol_steady\n",
      "miglitol_up\n",
      "troglitazone_steady\n",
      "tolazamide_steady\n",
      "tolazamide_up\n",
      "insulin_down\n",
      "insulin_steady\n",
      "insulin_up\n",
      "glyburide-metformin_down\n",
      "glyburide-metformin_steady\n",
      "glyburide-metformin_up\n",
      "glipizide-metformin_steady\n",
      "glimepiride-pioglitazone_steady\n",
      "metformin-rosiglitazone_steady\n",
      "metformin-pioglitazone_steady\n",
      "change_ch\n",
      "diabetesMed_yes\n",
      "readmitted_<30\n",
      "readmitted_>30\n",
      "readmitted_no\n"
     ]
    }
   ],
   "source": [
    "for col in df_encoded2.columns:\n",
    "    print(col)"
   ]
  },
  {
   "cell_type": "code",
   "execution_count": null,
   "id": "eac6123e-8349-4a38-8e07-49ef4b2c60e9",
   "metadata": {},
   "outputs": [],
   "source": []
  }
 ],
 "metadata": {
  "kernelspec": {
   "display_name": "sugarsync",
   "language": "python",
   "name": "sugarsync"
  },
  "language_info": {
   "codemirror_mode": {
    "name": "ipython",
    "version": 3
   },
   "file_extension": ".py",
   "mimetype": "text/x-python",
   "name": "python",
   "nbconvert_exporter": "python",
   "pygments_lexer": "ipython3",
   "version": "3.11.7"
  }
 },
 "nbformat": 4,
 "nbformat_minor": 5
}
