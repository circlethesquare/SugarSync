{
 "cells": [
  {
   "cell_type": "code",
   "execution_count": 1,
   "id": "5e512aa1-a410-40cf-a1b8-2f5deb030637",
   "metadata": {},
   "outputs": [],
   "source": [
    "import pandas as pd"
   ]
  },
  {
   "cell_type": "code",
   "execution_count": 2,
   "id": "1b755d15-7d72-4aa5-adbc-13747a513a1e",
   "metadata": {},
   "outputs": [],
   "source": [
    "df = pd.read_csv(\"../data/clean/df_cleaned.csv\")"
   ]
  },
  {
   "cell_type": "code",
   "execution_count": 3,
   "id": "b8edd029-e15d-421e-9f9d-e898f51abece",
   "metadata": {},
   "outputs": [],
   "source": [
    "df = df.drop('Unnamed: 0',axis=1)"
   ]
  },
  {
   "cell_type": "code",
   "execution_count": 4,
   "id": "3cec624a-95b4-4c2b-a0c2-b24a6e56d5cd",
   "metadata": {},
   "outputs": [
    {
     "data": {
      "text/plain": [
       "patient_nbr                 996\n",
       "race                          4\n",
       "gender                        2\n",
       "age                          10\n",
       "weight                        8\n",
       "time_in_hospital             14\n",
       "num_lab_procedures           89\n",
       "num_procedures                7\n",
       "num_medications              46\n",
       "number_outpatient            15\n",
       "number_emergency              8\n",
       "number_inpatient             10\n",
       "number_diagnoses              7\n",
       "metformin                     4\n",
       "repaglinide                   3\n",
       "nateglinide                   2\n",
       "chlorpropamide                1\n",
       "glimepiride                   4\n",
       "acetohexamide                 1\n",
       "glipizide                     4\n",
       "glyburide                     4\n",
       "tolbutamide                   1\n",
       "pioglitazone                  4\n",
       "rosiglitazone                 2\n",
       "acarbose                      2\n",
       "miglitol                      1\n",
       "troglitazone                  1\n",
       "tolazamide                    1\n",
       "examide                       1\n",
       "citoglipton                   1\n",
       "insulin                       4\n",
       "glyburide-metformin           1\n",
       "glipizide-metformin           1\n",
       "glimepiride-pioglitazone      1\n",
       "metformin-rosiglitazone       1\n",
       "metformin-pioglitazone        1\n",
       "change                        2\n",
       "diabetesMed                   2\n",
       "readmitted                    3\n",
       "dtype: int64"
      ]
     },
     "execution_count": 4,
     "metadata": {},
     "output_type": "execute_result"
    }
   ],
   "source": [
    "df.nunique()"
   ]
  },
  {
   "cell_type": "code",
   "execution_count": 5,
   "id": "1e698053-061b-42bc-adb1-8cb8db82c020",
   "metadata": {},
   "outputs": [
    {
     "name": "stdout",
     "output_type": "stream",
     "text": [
      "chlorpropamidevalue : ['no']\n",
      "acetohexamidevalue : ['no']\n",
      "tolbutamidevalue : ['no']\n",
      "miglitolvalue : ['no']\n",
      "troglitazonevalue : ['no']\n",
      "tolazamidevalue : ['no']\n",
      "examidevalue : ['no']\n",
      "citogliptonvalue : ['no']\n",
      "glyburide-metforminvalue : ['no']\n",
      "glipizide-metforminvalue : ['no']\n",
      "glimepiride-pioglitazonevalue : ['no']\n",
      "metformin-rosiglitazonevalue : ['no']\n",
      "metformin-pioglitazonevalue : ['no']\n"
     ]
    }
   ],
   "source": [
    "columns_to_drop = []\n",
    "for col in df.columns: \n",
    "    if df[col].nunique()==1:\n",
    "        columns_to_drop.append(col)\n",
    "        print(f\"{col}value : {df[col].unique()}\")\n",
    "\n",
    "#these columns have only one value and provides no info, so dropping them all \n",
    "\n",
    "df = df.drop(columns_to_drop,axis=1)"
   ]
  },
  {
   "cell_type": "code",
   "execution_count": 6,
   "id": "c2140ccb-ec78-4034-b9a6-8dbde24f38ac",
   "metadata": {},
   "outputs": [],
   "source": [
    "#checking for race distrubution\n",
    "\n",
    "pd.crosstab(df['race'],df['readmitted'])\n",
    "\n",
    "#data is from heavly caucasian patients, dropping the race column as it does not add much value \n",
    "\n",
    "df = df.drop('race',axis=1)"
   ]
  },
  {
   "cell_type": "code",
   "execution_count": 7,
   "id": "865a5a76-ff68-4d68-8eee-0732f4b87db4",
   "metadata": {},
   "outputs": [
    {
     "data": {
      "text/plain": [
       "age\n",
       "[70-80)     305\n",
       "[60-70)     255\n",
       "[50-60)     177\n",
       "[80-90)     171\n",
       "[40-50)      68\n",
       "[30-40)      25\n",
       "[90-100)     22\n",
       "[20-30)      18\n",
       "[0-10)        1\n",
       "[10-20)       1\n",
       "Name: count, dtype: int64"
      ]
     },
     "execution_count": 7,
     "metadata": {},
     "output_type": "execute_result"
    }
   ],
   "source": [
    "pd.crosstab(df['age'],df['readmitted'])\n",
    "df['age'].value_counts(ascending=False)"
   ]
  },
  {
   "cell_type": "code",
   "execution_count": 8,
   "id": "e012d3db-64c8-4e41-8f63-1fd3a035fb0e",
   "metadata": {},
   "outputs": [
    {
     "data": {
      "text/plain": [
       "age\n",
       "[70-80)     29.24\n",
       "[60-70)     24.45\n",
       "[50-60)     16.97\n",
       "[80-90)     16.40\n",
       "[40-50)      6.52\n",
       "[30-40)      2.40\n",
       "[90-100)     2.11\n",
       "[20-30)      1.73\n",
       "[0-10)       0.10\n",
       "[10-20)      0.10\n",
       "Name: count, dtype: float64"
      ]
     },
     "execution_count": 8,
     "metadata": {},
     "output_type": "execute_result"
    }
   ],
   "source": [
    "(df['age'].value_counts()/df['age'].shape[0]*100).round(2)"
   ]
  },
  {
   "cell_type": "code",
   "execution_count": 9,
   "id": "4122192a-88ee-413f-9459-04e0027126f2",
   "metadata": {},
   "outputs": [
    {
     "data": {
      "text/html": [
       "<div>\n",
       "<style scoped>\n",
       "    .dataframe tbody tr th:only-of-type {\n",
       "        vertical-align: middle;\n",
       "    }\n",
       "\n",
       "    .dataframe tbody tr th {\n",
       "        vertical-align: top;\n",
       "    }\n",
       "\n",
       "    .dataframe thead th {\n",
       "        text-align: right;\n",
       "    }\n",
       "</style>\n",
       "<table border=\"1\" class=\"dataframe\">\n",
       "  <thead>\n",
       "    <tr style=\"text-align: right;\">\n",
       "      <th>readmitted</th>\n",
       "      <th>&lt;30</th>\n",
       "      <th>&gt;30</th>\n",
       "      <th>no</th>\n",
       "    </tr>\n",
       "    <tr>\n",
       "      <th>age</th>\n",
       "      <th></th>\n",
       "      <th></th>\n",
       "      <th></th>\n",
       "    </tr>\n",
       "  </thead>\n",
       "  <tbody>\n",
       "    <tr>\n",
       "      <th>[0-10)</th>\n",
       "      <td>0</td>\n",
       "      <td>0</td>\n",
       "      <td>1</td>\n",
       "    </tr>\n",
       "    <tr>\n",
       "      <th>[10-20)</th>\n",
       "      <td>0</td>\n",
       "      <td>1</td>\n",
       "      <td>0</td>\n",
       "    </tr>\n",
       "    <tr>\n",
       "      <th>[20-30)</th>\n",
       "      <td>2</td>\n",
       "      <td>9</td>\n",
       "      <td>7</td>\n",
       "    </tr>\n",
       "    <tr>\n",
       "      <th>[30-40)</th>\n",
       "      <td>3</td>\n",
       "      <td>10</td>\n",
       "      <td>12</td>\n",
       "    </tr>\n",
       "    <tr>\n",
       "      <th>[40-50)</th>\n",
       "      <td>6</td>\n",
       "      <td>26</td>\n",
       "      <td>36</td>\n",
       "    </tr>\n",
       "    <tr>\n",
       "      <th>[50-60)</th>\n",
       "      <td>20</td>\n",
       "      <td>88</td>\n",
       "      <td>69</td>\n",
       "    </tr>\n",
       "    <tr>\n",
       "      <th>[60-70)</th>\n",
       "      <td>26</td>\n",
       "      <td>110</td>\n",
       "      <td>119</td>\n",
       "    </tr>\n",
       "    <tr>\n",
       "      <th>[70-80)</th>\n",
       "      <td>30</td>\n",
       "      <td>153</td>\n",
       "      <td>122</td>\n",
       "    </tr>\n",
       "    <tr>\n",
       "      <th>[80-90)</th>\n",
       "      <td>12</td>\n",
       "      <td>76</td>\n",
       "      <td>83</td>\n",
       "    </tr>\n",
       "    <tr>\n",
       "      <th>[90-100)</th>\n",
       "      <td>1</td>\n",
       "      <td>5</td>\n",
       "      <td>16</td>\n",
       "    </tr>\n",
       "  </tbody>\n",
       "</table>\n",
       "</div>"
      ],
      "text/plain": [
       "readmitted  <30  >30   no\n",
       "age                      \n",
       "[0-10)        0    0    1\n",
       "[10-20)       0    1    0\n",
       "[20-30)       2    9    7\n",
       "[30-40)       3   10   12\n",
       "[40-50)       6   26   36\n",
       "[50-60)      20   88   69\n",
       "[60-70)      26  110  119\n",
       "[70-80)      30  153  122\n",
       "[80-90)      12   76   83\n",
       "[90-100)      1    5   16"
      ]
     },
     "execution_count": 9,
     "metadata": {},
     "output_type": "execute_result"
    }
   ],
   "source": [
    "# total percentage of people from age 0 to 39 and btw 90-100 is less than 7%\n",
    "#combining with the destrubution of data for these age groups, decided to drop as \n",
    "#there's not much value \n",
    "pd.crosstab(df['age'],df['readmitted'])"
   ]
  },
  {
   "cell_type": "code",
   "execution_count": 10,
   "id": "d3e74161-3933-43b0-9e20-cadcafe1a570",
   "metadata": {},
   "outputs": [],
   "source": [
    "age_categories_to_drop = ['[0-10)', '[10-20)', '[20-30)', '[30-40)', '[90-100)']\n",
    "\n",
    "df = df[~df['age'].isin(age_categories_to_drop)]"
   ]
  },
  {
   "cell_type": "code",
   "execution_count": null,
   "id": "727fc677-80b7-465d-bc12-5f7416577c25",
   "metadata": {},
   "outputs": [],
   "source": []
  },
  {
   "cell_type": "code",
   "execution_count": 11,
   "id": "d9d3a4b6-cc0f-439b-87a9-f2f0b71623fa",
   "metadata": {},
   "outputs": [
    {
     "data": {
      "text/html": [
       "<div>\n",
       "<style scoped>\n",
       "    .dataframe tbody tr th:only-of-type {\n",
       "        vertical-align: middle;\n",
       "    }\n",
       "\n",
       "    .dataframe tbody tr th {\n",
       "        vertical-align: top;\n",
       "    }\n",
       "\n",
       "    .dataframe thead th {\n",
       "        text-align: right;\n",
       "    }\n",
       "</style>\n",
       "<table border=\"1\" class=\"dataframe\">\n",
       "  <thead>\n",
       "    <tr style=\"text-align: right;\">\n",
       "      <th>age</th>\n",
       "      <th>[40-50)</th>\n",
       "      <th>[50-60)</th>\n",
       "      <th>[60-70)</th>\n",
       "      <th>[70-80)</th>\n",
       "      <th>[80-90)</th>\n",
       "    </tr>\n",
       "    <tr>\n",
       "      <th>weight</th>\n",
       "      <th></th>\n",
       "      <th></th>\n",
       "      <th></th>\n",
       "      <th></th>\n",
       "      <th></th>\n",
       "    </tr>\n",
       "  </thead>\n",
       "  <tbody>\n",
       "    <tr>\n",
       "      <th>[0-25)</th>\n",
       "      <td>0</td>\n",
       "      <td>0</td>\n",
       "      <td>1</td>\n",
       "      <td>3</td>\n",
       "      <td>1</td>\n",
       "    </tr>\n",
       "    <tr>\n",
       "      <th>[100-125)</th>\n",
       "      <td>17</td>\n",
       "      <td>55</td>\n",
       "      <td>73</td>\n",
       "      <td>57</td>\n",
       "      <td>12</td>\n",
       "    </tr>\n",
       "    <tr>\n",
       "      <th>[125-150)</th>\n",
       "      <td>9</td>\n",
       "      <td>13</td>\n",
       "      <td>11</td>\n",
       "      <td>6</td>\n",
       "      <td>2</td>\n",
       "    </tr>\n",
       "    <tr>\n",
       "      <th>[150-175)</th>\n",
       "      <td>2</td>\n",
       "      <td>6</td>\n",
       "      <td>6</td>\n",
       "      <td>2</td>\n",
       "      <td>0</td>\n",
       "    </tr>\n",
       "    <tr>\n",
       "      <th>[175-200)</th>\n",
       "      <td>2</td>\n",
       "      <td>3</td>\n",
       "      <td>1</td>\n",
       "      <td>0</td>\n",
       "      <td>0</td>\n",
       "    </tr>\n",
       "    <tr>\n",
       "      <th>[25-50)</th>\n",
       "      <td>4</td>\n",
       "      <td>3</td>\n",
       "      <td>3</td>\n",
       "      <td>7</td>\n",
       "      <td>9</td>\n",
       "    </tr>\n",
       "    <tr>\n",
       "      <th>[50-75)</th>\n",
       "      <td>6</td>\n",
       "      <td>41</td>\n",
       "      <td>56</td>\n",
       "      <td>78</td>\n",
       "      <td>70</td>\n",
       "    </tr>\n",
       "    <tr>\n",
       "      <th>[75-100)</th>\n",
       "      <td>28</td>\n",
       "      <td>56</td>\n",
       "      <td>104</td>\n",
       "      <td>152</td>\n",
       "      <td>77</td>\n",
       "    </tr>\n",
       "  </tbody>\n",
       "</table>\n",
       "</div>"
      ],
      "text/plain": [
       "age        [40-50)  [50-60)  [60-70)  [70-80)  [80-90)\n",
       "weight                                                \n",
       "[0-25)           0        0        1        3        1\n",
       "[100-125)       17       55       73       57       12\n",
       "[125-150)        9       13       11        6        2\n",
       "[150-175)        2        6        6        2        0\n",
       "[175-200)        2        3        1        0        0\n",
       "[25-50)          4        3        3        7        9\n",
       "[50-75)          6       41       56       78       70\n",
       "[75-100)        28       56      104      152       77"
      ]
     },
     "execution_count": 11,
     "metadata": {},
     "output_type": "execute_result"
    }
   ],
   "source": [
    "pd.crosstab(df['weight'],df['age'])"
   ]
  },
  {
   "cell_type": "code",
   "execution_count": 12,
   "id": "4e1094b6-b929-4ad2-bdef-b41d739fbe9e",
   "metadata": {},
   "outputs": [
    {
     "data": {
      "text/plain": [
       "weight\n",
       "[75-100)     42.73\n",
       "[50-75)      25.72\n",
       "[100-125)    21.93\n",
       "[125-150)     4.20\n",
       "[25-50)       2.66\n",
       "[150-175)     1.64\n",
       "[175-200)     0.61\n",
       "[0-25)        0.51\n",
       "Name: count, dtype: float64"
      ]
     },
     "execution_count": 12,
     "metadata": {},
     "output_type": "execute_result"
    }
   ],
   "source": [
    "(df['weight'].value_counts()/df['weight'].shape[0]*100).round(2)"
   ]
  },
  {
   "cell_type": "code",
   "execution_count": 13,
   "id": "7514f40b-e721-4863-9e79-c20495009564",
   "metadata": {},
   "outputs": [],
   "source": [
    "weight_categories_to_drop = ['[125-150)','[25-50)','[150-175)','[175-200)','[0-25)']\n",
    "df = df[~df['weight'].isin(weight_categories_to_drop)]"
   ]
  },
  {
   "cell_type": "code",
   "execution_count": 14,
   "id": "fa351218-ad6f-4a41-8f14-fd4274d08fdd",
   "metadata": {},
   "outputs": [],
   "source": [
    "#for the same reason, I am dropping these weight rows as there's not much data/ \n",
    "# the analysis will focus on people age btw 40-90 and weight btw 50-125"
   ]
  },
  {
   "cell_type": "code",
   "execution_count": 15,
   "id": "5ff0739c-f075-41e3-93f4-31c40c3ee4f2",
   "metadata": {},
   "outputs": [
    {
     "data": {
      "text/plain": [
       "patient_nbr           841\n",
       "gender                  2\n",
       "age                     5\n",
       "weight                  3\n",
       "time_in_hospital       14\n",
       "num_lab_procedures     86\n",
       "num_procedures          7\n",
       "num_medications        46\n",
       "number_outpatient      15\n",
       "number_emergency        8\n",
       "number_inpatient        9\n",
       "number_diagnoses        7\n",
       "metformin               4\n",
       "repaglinide             3\n",
       "nateglinide             2\n",
       "glimepiride             4\n",
       "glipizide               4\n",
       "glyburide               4\n",
       "pioglitazone            4\n",
       "rosiglitazone           2\n",
       "acarbose                2\n",
       "insulin                 4\n",
       "change                  2\n",
       "diabetesMed             2\n",
       "readmitted              3\n",
       "dtype: int64"
      ]
     },
     "execution_count": 15,
     "metadata": {},
     "output_type": "execute_result"
    }
   ],
   "source": [
    "df.nunique()"
   ]
  },
  {
   "cell_type": "code",
   "execution_count": null,
   "id": "64b09a54-38e5-4dcd-880f-865c46da2537",
   "metadata": {},
   "outputs": [],
   "source": []
  },
  {
   "cell_type": "code",
   "execution_count": 16,
   "id": "2baa6ec5-d3cd-411e-9f53-9fbbdaef509e",
   "metadata": {},
   "outputs": [],
   "source": [
    "#visualisations are being done with Tableau "
   ]
  },
  {
   "cell_type": "code",
   "execution_count": 17,
   "id": "7cf38391-bfe1-4ff7-b98c-d4cc5ddc3b6c",
   "metadata": {},
   "outputs": [],
   "source": [
    "df.to_csv(path_or_buf=\"../data/clean/df_after_EDA.csv\")"
   ]
  },
  {
   "cell_type": "code",
   "execution_count": null,
   "id": "53a7b3a5-a299-4664-896d-2651e537d91f",
   "metadata": {},
   "outputs": [],
   "source": []
  },
  {
   "cell_type": "code",
   "execution_count": null,
   "id": "494c996d-25d1-4c6e-a047-96ba331ba24d",
   "metadata": {},
   "outputs": [],
   "source": []
  }
 ],
 "metadata": {
  "kernelspec": {
   "display_name": "sugarsync",
   "language": "python",
   "name": "sugarsync"
  },
  "language_info": {
   "codemirror_mode": {
    "name": "ipython",
    "version": 3
   },
   "file_extension": ".py",
   "mimetype": "text/x-python",
   "name": "python",
   "nbconvert_exporter": "python",
   "pygments_lexer": "ipython3",
   "version": "3.11.7"
  }
 },
 "nbformat": 4,
 "nbformat_minor": 5
}
