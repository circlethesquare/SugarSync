{
 "cells": [
  {
   "cell_type": "code",
   "execution_count": 28,
   "id": "2e6b5416-3eb1-4826-81ed-59ff16fc1794",
   "metadata": {},
   "outputs": [],
   "source": [
    "import pandas as pd\n",
    "from sklearn.model_selection import train_test_split\n",
    "from sklearn.preprocessing import OneHotEncoder\n",
    "from sklearn.preprocessing import MinMaxScaler, StandardScaler\n",
    "from sklearn.neighbors import KNeighborsRegressor\n",
    "from sklearn.neighbors import KNeighborsClassifier\n",
    "from sklearn.tree import DecisionTreeClassifier\n",
    "from sklearn.ensemble import RandomForestClassifier\n",
    "from sklearn.metrics import accuracy_score\n",
    "import pickle"
   ]
  },
  {
   "cell_type": "code",
   "execution_count": 29,
   "id": "1c30f680-6ecd-48ec-9c33-c51a59f1b6bb",
   "metadata": {},
   "outputs": [],
   "source": [
    "df = pd.read_csv(\"../data/clean/df_processed.csv\")\n",
    "df.drop(['Unnamed: 0'],inplace=True,axis=1)"
   ]
  },
  {
   "cell_type": "code",
   "execution_count": 30,
   "id": "30b6fb2d-67ec-45e7-8a19-2c85b897c89a",
   "metadata": {},
   "outputs": [],
   "source": [
    "#in order to test accuracy, changing target column to only yes or no\n",
    "#to see if it works better when only predicting readmission\n",
    "df['readmitted'] = df['readmitted'].replace({'<30':'yes','>30':'yes'})"
   ]
  },
  {
   "cell_type": "code",
   "execution_count": 31,
   "id": "8fecd5e5-8d28-4b8a-a633-c58d6a0c76f0",
   "metadata": {},
   "outputs": [],
   "source": [
    "features = df.drop(['readmitted'],axis=1)\n",
    "target = df[['readmitted']]"
   ]
  },
  {
   "cell_type": "code",
   "execution_count": 32,
   "id": "88b3bef0-26be-41c2-bbeb-64d0e19e6b5b",
   "metadata": {},
   "outputs": [],
   "source": [
    "X_train, X_test, y_train, y_test = train_test_split(features, target, test_size=0.2, random_state=5)"
   ]
  },
  {
   "cell_type": "code",
   "execution_count": 33,
   "id": "090f2f8a-08e8-4cb2-adaa-fedf1f9e807d",
   "metadata": {},
   "outputs": [],
   "source": [
    "# Split the dataset into numerical and categorical column\n",
    "X_train_cat = X_train.select_dtypes('object')\n",
    "X_test_cat  = X_test.select_dtypes('object')\n",
    "\n",
    "X_train_num = X_train.select_dtypes('number')\n",
    "X_test_num  = X_test.select_dtypes('number')"
   ]
  },
  {
   "cell_type": "code",
   "execution_count": 34,
   "id": "2a426cf1-f18b-4758-92a1-703570c6e895",
   "metadata": {},
   "outputs": [],
   "source": [
    "#Encoding. \n",
    "\n",
    "\n",
    "#Decided to use one hot encoding for weight and age  as \n",
    "#there's perhaps an ordinal relationship but not well/equally distributed"
   ]
  },
  {
   "cell_type": "code",
   "execution_count": 35,
   "id": "794e33da-4c95-4295-b2d1-7c7f7b05ef42",
   "metadata": {},
   "outputs": [],
   "source": [
    "categorical_column_values = [ df[col].unique() for col in df.select_dtypes('object').columns ]"
   ]
  },
  {
   "cell_type": "code",
   "execution_count": 36,
   "id": "4bf21fdd-e20b-42a5-9227-15d06fd7fd40",
   "metadata": {},
   "outputs": [],
   "source": [
    "encoder = OneHotEncoder(drop='first', sparse_output=False)"
   ]
  },
  {
   "cell_type": "code",
   "execution_count": 54,
   "id": "727bd11e-afa9-4ac5-9f24-5c7c5452f265",
   "metadata": {},
   "outputs": [],
   "source": [
    "encoder.fit(X_train_cat)\n",
    "\n",
    "with open('../transformers/transformer_e.pkl', 'wb') as f:\n",
    "    pickle.dump(encoder, f)"
   ]
  },
  {
   "cell_type": "code",
   "execution_count": 38,
   "id": "e91e570b-2fc8-45be-93b1-5fcbe4d91484",
   "metadata": {},
   "outputs": [],
   "source": [
    "X_train_cat_encoded_np = encoder.transform(X_train_cat)\n",
    "X_test_cat_encoded_np  = encoder.transform(X_test_cat)"
   ]
  },
  {
   "cell_type": "code",
   "execution_count": 39,
   "id": "3bff13a1-0fa3-4921-9c06-a9421fa16760",
   "metadata": {},
   "outputs": [],
   "source": [
    "X_train_cat_encoded_df = pd.DataFrame(X_train_cat_encoded_np, columns=encoder.get_feature_names_out(), index=X_train.index)\n",
    "X_test_cat_encoded_df = pd.DataFrame(X_test_cat_encoded_np, columns=encoder.get_feature_names_out(), index=X_test.index)"
   ]
  },
  {
   "cell_type": "code",
   "execution_count": 40,
   "id": "dc9e4189-13d6-45ee-a4ae-f7bd1e0157b2",
   "metadata": {},
   "outputs": [],
   "source": [
    "X_train_encoded = pd.concat([X_train_num, X_train_cat_encoded_df], axis=1)\n",
    "X_test_encoded = pd.concat([X_test_num, X_test_cat_encoded_df], axis=1)"
   ]
  },
  {
   "cell_type": "code",
   "execution_count": 55,
   "id": "b2830e1b-d4b1-4ffc-b0ab-196f3788eae1",
   "metadata": {},
   "outputs": [],
   "source": [
    "normalizer = MinMaxScaler()\n",
    "normalizer.fit(X_train_encoded)\n",
    "with open('../scalers/scaler_e.pkl', 'wb') as f:\n",
    "    pickle.dump(encoder, f)"
   ]
  },
  {
   "cell_type": "code",
   "execution_count": 42,
   "id": "a281f37d-4c3d-481e-89e0-ebf03545ac88",
   "metadata": {},
   "outputs": [],
   "source": [
    "X_train_norm_np = normalizer.transform(X_train_encoded)\n",
    "X_test_norm_np = normalizer.transform(X_test_encoded)"
   ]
  },
  {
   "cell_type": "code",
   "execution_count": 43,
   "id": "7e54e2b7-f608-4f1b-91ca-b04477e0b338",
   "metadata": {},
   "outputs": [],
   "source": [
    "X_train_norm_df = pd.DataFrame(X_train_norm_np, columns=X_train_encoded.columns, index=X_train_encoded.index)\n",
    "X_test_norm_df  = pd.DataFrame(X_test_norm_np,  columns=X_test_encoded.columns,  index=X_test_encoded.index)"
   ]
  },
  {
   "cell_type": "code",
   "execution_count": null,
   "id": "198375b8-62e9-49d6-bd1c-05a743a87442",
   "metadata": {},
   "outputs": [],
   "source": []
  },
  {
   "cell_type": "code",
   "execution_count": 44,
   "id": "8296fd60-8dd9-4a41-b1c0-006fbea64c4e",
   "metadata": {},
   "outputs": [],
   "source": [
    "###KNN"
   ]
  },
  {
   "cell_type": "code",
   "execution_count": 56,
   "id": "846c9773-7f04-4731-b111-c103183eaa6f",
   "metadata": {},
   "outputs": [
    {
     "name": "stderr",
     "output_type": "stream",
     "text": [
      "/Users/og/Desktop/IronHackDA/7-Final_Project/SugarSync/sugarsync/lib/python3.11/site-packages/sklearn/neighbors/_classification.py:238: DataConversionWarning: A column-vector y was passed when a 1d array was expected. Please change the shape of y to (n_samples,), for example using ravel().\n",
      "  return self._fit(X, y)\n"
     ]
    }
   ],
   "source": [
    "knn = KNeighborsClassifier(n_neighbors=16)  \n",
    "knn.fit(X_train_norm_df, y_train)\n",
    "\n",
    "with open('../models/e_KNN.pkl', 'wb') as f:\n",
    "    pickle.dump(knn, f)\n"
   ]
  },
  {
   "cell_type": "code",
   "execution_count": 46,
   "id": "7e893109-29b0-45c7-b402-26cf3175db45",
   "metadata": {},
   "outputs": [],
   "source": [
    "y_pred = knn.predict(X_test_norm_df)"
   ]
  },
  {
   "cell_type": "code",
   "execution_count": 47,
   "id": "d94d485d-e8a0-4209-ab57-5522d84e6e4b",
   "metadata": {},
   "outputs": [
    {
     "name": "stdout",
     "output_type": "stream",
     "text": [
      "Accuracy: 0.5875706214689266\n"
     ]
    }
   ],
   "source": [
    "accuracy = knn.score(X_test_norm_df, y_test)\n",
    "print(\"Accuracy:\", accuracy)"
   ]
  },
  {
   "cell_type": "code",
   "execution_count": 48,
   "id": "a9ab8000-c756-4654-a781-30b854298297",
   "metadata": {},
   "outputs": [],
   "source": [
    "##DEcision Tree "
   ]
  },
  {
   "cell_type": "code",
   "execution_count": 57,
   "id": "f4b06fdf-938a-49f5-8553-aa878700cef3",
   "metadata": {},
   "outputs": [],
   "source": [
    "dt_classifier = DecisionTreeClassifier(random_state=42)\n",
    "dt_classifier.fit(X_train_norm_df, y_train)\n",
    "\n",
    "with open('../models/e_DT.pkl', 'wb') as d:\n",
    "    pickle.dump(dt_classifier, d)"
   ]
  },
  {
   "cell_type": "code",
   "execution_count": 50,
   "id": "77a1b175-3852-4c76-ae46-78f811ccf0c7",
   "metadata": {},
   "outputs": [
    {
     "name": "stdout",
     "output_type": "stream",
     "text": [
      "Decision Tree Accuracy: 0.5706214689265536\n"
     ]
    }
   ],
   "source": [
    "dt_predictions = dt_classifier.predict(X_test_norm_df)\n",
    "dt_accuracy = accuracy_score(y_test, dt_predictions)\n",
    "print(\"Decision Tree Accuracy:\", dt_accuracy)"
   ]
  },
  {
   "cell_type": "code",
   "execution_count": 51,
   "id": "d8a5a31e-e1a4-48d1-9781-f49957e54658",
   "metadata": {},
   "outputs": [],
   "source": [
    "##RF Classifier "
   ]
  },
  {
   "cell_type": "code",
   "execution_count": 58,
   "id": "d2b8690f-c871-4902-ba9b-22bf03114125",
   "metadata": {},
   "outputs": [
    {
     "name": "stderr",
     "output_type": "stream",
     "text": [
      "/Users/og/Desktop/IronHackDA/7-Final_Project/SugarSync/sugarsync/lib/python3.11/site-packages/sklearn/base.py:1474: DataConversionWarning: A column-vector y was passed when a 1d array was expected. Please change the shape of y to (n_samples,), for example using ravel().\n",
      "  return fit_method(estimator, *args, **kwargs)\n"
     ]
    }
   ],
   "source": [
    "rf_classifier = RandomForestClassifier(n_estimators=100, random_state=42)\n",
    "rf_classifier.fit(X_train_norm_df, y_train)\n",
    "\n",
    "with open('../models/e_RF.pkl', 'wb') as r:\n",
    "    pickle.dump(rf_classifier, r)"
   ]
  },
  {
   "cell_type": "code",
   "execution_count": 53,
   "id": "66c80655-44bf-4deb-90bf-58b81b35d30a",
   "metadata": {},
   "outputs": [
    {
     "name": "stdout",
     "output_type": "stream",
     "text": [
      "Random Forest Accuracy: 0.615819209039548\n"
     ]
    }
   ],
   "source": [
    "rf_predictions = rf_classifier.predict(X_test_norm_df)\n",
    "rf_accuracy = accuracy_score(y_test, rf_predictions)\n",
    "print(\"Random Forest Accuracy:\", rf_accuracy)"
   ]
  },
  {
   "cell_type": "code",
   "execution_count": null,
   "id": "b8d1ebb7-1009-46a5-8c6f-734352ef8499",
   "metadata": {},
   "outputs": [],
   "source": []
  },
  {
   "cell_type": "code",
   "execution_count": null,
   "id": "ae6d2a7d-dbe3-4db5-ac6a-102530297a61",
   "metadata": {},
   "outputs": [],
   "source": []
  }
 ],
 "metadata": {
  "kernelspec": {
   "display_name": "sugarsync",
   "language": "python",
   "name": "sugarsync"
  },
  "language_info": {
   "codemirror_mode": {
    "name": "ipython",
    "version": 3
   },
   "file_extension": ".py",
   "mimetype": "text/x-python",
   "name": "python",
   "nbconvert_exporter": "python",
   "pygments_lexer": "ipython3",
   "version": "3.11.7"
  }
 },
 "nbformat": 4,
 "nbformat_minor": 5
}
