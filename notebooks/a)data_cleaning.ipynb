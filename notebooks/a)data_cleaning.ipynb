{
 "cells": [
  {
   "cell_type": "code",
   "execution_count": 1,
   "id": "7f14e3cf",
   "metadata": {},
   "outputs": [],
   "source": [
    "import pandas as pd \n",
    "from sklearn.preprocessing import LabelEncoder\n",
    "import numpy as np\n"
   ]
  },
  {
   "cell_type": "code",
   "execution_count": 2,
   "id": "c090f7fb",
   "metadata": {},
   "outputs": [],
   "source": [
    "df = pd.read_csv(\"../data/raw/diabetic_data.csv\")"
   ]
  },
  {
   "cell_type": "markdown",
   "id": "09b81138",
   "metadata": {},
   "source": [
    "## data_cleaning"
   ]
  },
  {
   "cell_type": "code",
   "execution_count": null,
   "id": "e4fbf35a",
   "metadata": {},
   "outputs": [],
   "source": []
  },
  {
   "cell_type": "code",
   "execution_count": 4,
   "id": "5aff9b1f",
   "metadata": {},
   "outputs": [
    {
     "data": {
      "text/plain": [
       "encounter_id                    0\n",
       "patient_nbr                     0\n",
       "race                            0\n",
       "gender                          0\n",
       "age                             0\n",
       "weight                          0\n",
       "admission_type_id               0\n",
       "discharge_disposition_id        0\n",
       "admission_source_id             0\n",
       "time_in_hospital                0\n",
       "payer_code                      0\n",
       "medical_specialty               0\n",
       "num_lab_procedures              0\n",
       "num_procedures                  0\n",
       "num_medications                 0\n",
       "number_outpatient               0\n",
       "number_emergency                0\n",
       "number_inpatient                0\n",
       "diag_1                          0\n",
       "diag_2                          0\n",
       "diag_3                          0\n",
       "number_diagnoses                0\n",
       "max_glu_serum               96420\n",
       "A1Cresult                   84748\n",
       "metformin                       0\n",
       "repaglinide                     0\n",
       "nateglinide                     0\n",
       "chlorpropamide                  0\n",
       "glimepiride                     0\n",
       "acetohexamide                   0\n",
       "glipizide                       0\n",
       "glyburide                       0\n",
       "tolbutamide                     0\n",
       "pioglitazone                    0\n",
       "rosiglitazone                   0\n",
       "acarbose                        0\n",
       "miglitol                        0\n",
       "troglitazone                    0\n",
       "tolazamide                      0\n",
       "examide                         0\n",
       "citoglipton                     0\n",
       "insulin                         0\n",
       "glyburide-metformin             0\n",
       "glipizide-metformin             0\n",
       "glimepiride-pioglitazone        0\n",
       "metformin-rosiglitazone         0\n",
       "metformin-pioglitazone          0\n",
       "change                          0\n",
       "diabetesMed                     0\n",
       "readmitted                      0\n",
       "dtype: int64"
      ]
     },
     "execution_count": 4,
     "metadata": {},
     "output_type": "execute_result"
    }
   ],
   "source": [
    "#there are other typesof Null values in the data but starting with checking \n",
    "#the ones system recognize \n",
    "\n",
    "df.isnull().sum()"
   ]
  },
  {
   "cell_type": "code",
   "execution_count": null,
   "id": "7292ce38-1082-4002-bfba-a0def9c0f9fa",
   "metadata": {},
   "outputs": [],
   "source": []
  },
  {
   "cell_type": "code",
   "execution_count": 5,
   "id": "d4a62d12",
   "metadata": {},
   "outputs": [
    {
     "name": "stdout",
     "output_type": "stream",
     "text": [
      "max_glu_serum column is 94.75% empty\n",
      "A1Cresult column is 83.28% empty\n"
     ]
    }
   ],
   "source": [
    "print(f\"max_glu_serum column is {(df['max_glu_serum'].isnull().sum()*100 / len(df['max_glu_serum'])).round(2)}% empty\")\n",
    "print(f\"A1Cresult column is {(df['A1Cresult'].isnull().sum()*100 / len(df['A1Cresult'])).round(2)}% empty\")\n",
    "\n",
    "#creating a copy of original df \n",
    "df_cleaned = df.copy()\n",
    "\n",
    "#as these columns are mostly empty, dropping them\n",
    "df_cleaned.drop(columns=[\"max_glu_serum\",\"A1Cresult\"],inplace=True)"
   ]
  },
  {
   "cell_type": "code",
   "execution_count": 6,
   "id": "4670e3ab",
   "metadata": {},
   "outputs": [],
   "source": [
    "#assigning raw data columns per dtype \n",
    "\n",
    "numeric_columns = df_cleaned.select_dtypes(\"number\")\n",
    "categorical_columns = df_cleaned.select_dtypes(\"object\")"
   ]
  },
  {
   "cell_type": "code",
   "execution_count": 7,
   "id": "33d8cc25",
   "metadata": {},
   "outputs": [],
   "source": [
    "def replace_question_marks_with_nan(df):\n",
    "    \"\"\" Defining a function to replace '?' with nan \"\"\"\n",
    "    return df.replace('?', np.nan, inplace=True)\n",
    "\n",
    "#applying the function to my df \n",
    "replace_question_marks_with_nan(df_cleaned)"
   ]
  },
  {
   "cell_type": "code",
   "execution_count": 8,
   "id": "c826e0bb",
   "metadata": {},
   "outputs": [
    {
     "data": {
      "text/plain": [
       "encounter_id                0\n",
       "patient_nbr                 0\n",
       "race                        0\n",
       "gender                      0\n",
       "age                         0\n",
       "weight                      0\n",
       "admission_type_id           0\n",
       "discharge_disposition_id    0\n",
       "admission_source_id         0\n",
       "time_in_hospital            0\n",
       "payer_code                  0\n",
       "medical_specialty           0\n",
       "num_lab_procedures          0\n",
       "num_procedures              0\n",
       "num_medications             0\n",
       "number_outpatient           0\n",
       "number_emergency            0\n",
       "number_inpatient            0\n",
       "diag_1                      0\n",
       "diag_2                      0\n",
       "diag_3                      0\n",
       "number_diagnoses            0\n",
       "metformin                   0\n",
       "repaglinide                 0\n",
       "nateglinide                 0\n",
       "chlorpropamide              0\n",
       "glimepiride                 0\n",
       "acetohexamide               0\n",
       "glipizide                   0\n",
       "glyburide                   0\n",
       "tolbutamide                 0\n",
       "pioglitazone                0\n",
       "rosiglitazone               0\n",
       "acarbose                    0\n",
       "miglitol                    0\n",
       "troglitazone                0\n",
       "tolazamide                  0\n",
       "examide                     0\n",
       "citoglipton                 0\n",
       "insulin                     0\n",
       "glyburide-metformin         0\n",
       "glipizide-metformin         0\n",
       "glimepiride-pioglitazone    0\n",
       "metformin-rosiglitazone     0\n",
       "metformin-pioglitazone      0\n",
       "change                      0\n",
       "diabetesMed                 0\n",
       "readmitted                  0\n",
       "dtype: int64"
      ]
     },
     "execution_count": 8,
     "metadata": {},
     "output_type": "execute_result"
    }
   ],
   "source": [
    "df_cleaned.isnull().sum()\n",
    "df_cleaned.dropna(inplace=True)\n",
    "df_cleaned.isnull().sum()"
   ]
  },
  {
   "cell_type": "code",
   "execution_count": 9,
   "id": "53e04f38",
   "metadata": {},
   "outputs": [
    {
     "data": {
      "text/plain": [
       "0"
      ]
     },
     "execution_count": 9,
     "metadata": {},
     "output_type": "execute_result"
    }
   ],
   "source": [
    "#checking for duplicated but result is 0 \n",
    "df_cleaned.duplicated().sum()"
   ]
  },
  {
   "cell_type": "code",
   "execution_count": 12,
   "id": "877e4b81",
   "metadata": {},
   "outputs": [],
   "source": [
    "# medical_specialty & payer_code columns are irrelevant, so will drop them as well \n",
    "\n",
    "#and to keep things simple, dropping discharge_disposition_id & admission_source_id \n",
    "\n",
    "columns_to_remove = ['medical_specialty',\n",
    "                               'payer_code',\n",
    "                               'discharge_disposition_id',\n",
    "                               'admission_source_id',\n",
    "                               'admission_type_id',\n",
    "                               'encounter_id',\n",
    "                               'diag_1',\n",
    "                               'diag_2',\n",
    "                               'diag_3']\n",
    "                               \n",
    "#columns 'diag_1', 'diag_2','diag_3' has a lot of unique values, \n",
    "\n",
    "df_cleaned = df_cleaned.drop(columns_to_remove,\n",
    "                axis=1,\n",
    "                )\n",
    "\n"
   ]
  },
  {
   "cell_type": "code",
   "execution_count": 13,
   "id": "efce9689",
   "metadata": {},
   "outputs": [],
   "source": [
    "#just changing characters to lowercase for more uniform categorical columns \n",
    "\n",
    "df_cleaned = df_cleaned.map(lambda x: x.lower() if isinstance(x, str) else x)\n"
   ]
  },
  {
   "cell_type": "code",
   "execution_count": null,
   "id": "c53e7845",
   "metadata": {},
   "outputs": [],
   "source": []
  },
  {
   "cell_type": "code",
   "execution_count": null,
   "id": "77527871-22b9-4da9-abcf-98f0c53db97f",
   "metadata": {},
   "outputs": [],
   "source": [
    "df_cleaned.nunique()"
   ]
  },
  {
   "cell_type": "code",
   "execution_count": 14,
   "id": "2b1b24f9",
   "metadata": {},
   "outputs": [],
   "source": [
    "#saving dfs as csv \n",
    "\n",
    "df_cleaned.to_csv(path_or_buf=\"../data/clean/df_cleaned.csv\")"
   ]
  },
  {
   "cell_type": "code",
   "execution_count": null,
   "id": "ecca8643",
   "metadata": {},
   "outputs": [],
   "source": []
  },
  {
   "cell_type": "code",
   "execution_count": 15,
   "id": "275353e6-5ece-4f70-aa7a-71cbbbc99790",
   "metadata": {},
   "outputs": [
    {
     "data": {
      "text/plain": [
       "(1043, 39)"
      ]
     },
     "execution_count": 15,
     "metadata": {},
     "output_type": "execute_result"
    }
   ],
   "source": [
    "df_cleaned.shape"
   ]
  },
  {
   "cell_type": "code",
   "execution_count": null,
   "id": "efd6c8b2-6210-4fd4-8643-a6c1c608b0c7",
   "metadata": {},
   "outputs": [],
   "source": []
  },
  {
   "cell_type": "code",
   "execution_count": null,
   "id": "9b05b545-be4e-463a-9fe9-5921daa0293e",
   "metadata": {},
   "outputs": [],
   "source": []
  }
 ],
 "metadata": {
  "kernelspec": {
   "display_name": "sugarsync",
   "language": "python",
   "name": "sugarsync"
  },
  "language_info": {
   "codemirror_mode": {
    "name": "ipython",
    "version": 3
   },
   "file_extension": ".py",
   "mimetype": "text/x-python",
   "name": "python",
   "nbconvert_exporter": "python",
   "pygments_lexer": "ipython3",
   "version": "3.11.7"
  }
 },
 "nbformat": 4,
 "nbformat_minor": 5
}
